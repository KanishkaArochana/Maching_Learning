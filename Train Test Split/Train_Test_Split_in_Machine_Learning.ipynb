{
  "nbformat": 4,
  "nbformat_minor": 0,
  "metadata": {
    "colab": {
      "provenance": []
    },
    "kernelspec": {
      "name": "python3",
      "display_name": "Python 3"
    },
    "language_info": {
      "name": "python"
    }
  },
  "cells": [
    {
      "cell_type": "markdown",
      "source": [
        "# Train Test Split in Machine Learning"
      ],
      "metadata": {
        "id": "HVx47Z0lawM6"
      }
    },
    {
      "cell_type": "markdown",
      "source": [
        "**Import Libary**"
      ],
      "metadata": {
        "id": "qvE2dGNAazR5"
      }
    },
    {
      "cell_type": "code",
      "execution_count": 1,
      "metadata": {
        "id": "dI7sOHTQaqnN"
      },
      "outputs": [],
      "source": [
        "import numpy as np\n",
        "from sklearn.model_selection import train_test_split"
      ]
    },
    {
      "cell_type": "markdown",
      "source": [
        "**Dataset**"
      ],
      "metadata": {
        "id": "b8i38di2d8Nh"
      }
    },
    {
      "cell_type": "code",
      "source": [
        "x = np.array([1,2,3,4,5,6,7,8,9,10,11,12,13,14,15,16,17,18,19,20])\n",
        "y = np.array([0,0,1,0,1,0,0,0,0,0,1,1,1,0,1,0,1,1,1,1])"
      ],
      "metadata": {
        "id": "wZUWd7btbYVd"
      },
      "execution_count": 2,
      "outputs": []
    },
    {
      "cell_type": "markdown",
      "source": [
        "**Separat value in train and test**"
      ],
      "metadata": {
        "id": "ZtM00E52hEPN"
      }
    },
    {
      "cell_type": "markdown",
      "source": [
        "train_test_split(x,y) have a 4 catagary\n",
        "* x value train\n",
        "* x value test\n",
        "* y value train\n",
        "* y value test\n",
        "\n",
        "First come x values and after come y values and That's wahy first come train value\n",
        "\n",
        "test_size value between 0 & 1\n",
        "* Ex - if test_size =0.2 x_train is 0.8\n",
        "\n",
        "'random_state' mkethod use in Maintaining the same data set <br>\n",
        "'shuffle = False' method use in data shuffle or not"
      ],
      "metadata": {
        "id": "jmPqEYqzh3KE"
      }
    },
    {
      "cell_type": "code",
      "source": [
        "x_train,x_test,y_train,y_test = train_test_split(x,y, test_size=0.25)"
      ],
      "metadata": {
        "id": "WbKZooq-dQ27"
      },
      "execution_count": 3,
      "outputs": []
    },
    {
      "cell_type": "markdown",
      "source": [
        "**X Values**"
      ],
      "metadata": {
        "id": "EHNuwFCOnkcn"
      }
    },
    {
      "cell_type": "markdown",
      "source": [
        "Choose x_train values (Ramdomly)"
      ],
      "metadata": {
        "id": "-szwPCAOmI_y"
      }
    },
    {
      "cell_type": "code",
      "source": [
        "x_train"
      ],
      "metadata": {
        "colab": {
          "base_uri": "https://localhost:8080/"
        },
        "id": "AJ6CIKTNhUuG",
        "outputId": "9f2c87cf-4f77-48cc-85ed-42a189a2651f"
      },
      "execution_count": 4,
      "outputs": [
        {
          "output_type": "execute_result",
          "data": {
            "text/plain": [
              "array([19, 15, 18,  1,  4,  9, 14,  3, 10,  6, 13, 12,  5, 11,  2])"
            ]
          },
          "metadata": {},
          "execution_count": 4
        }
      ]
    },
    {
      "cell_type": "markdown",
      "source": [
        "Look at length of x_train"
      ],
      "metadata": {
        "id": "g0UU6WCHmY4g"
      }
    },
    {
      "cell_type": "code",
      "source": [
        "len(x_train)"
      ],
      "metadata": {
        "colab": {
          "base_uri": "https://localhost:8080/"
        },
        "id": "XHjpgRryjzRL",
        "outputId": "a27042f7-22cc-43ff-851f-427a9f1b66f1"
      },
      "execution_count": 5,
      "outputs": [
        {
          "output_type": "execute_result",
          "data": {
            "text/plain": [
              "15"
            ]
          },
          "metadata": {},
          "execution_count": 5
        }
      ]
    },
    {
      "cell_type": "markdown",
      "source": [
        "Choose x_test values (Ramdomly)"
      ],
      "metadata": {
        "id": "DDHBJ9uInMUo"
      }
    },
    {
      "cell_type": "code",
      "source": [
        "x_test"
      ],
      "metadata": {
        "colab": {
          "base_uri": "https://localhost:8080/"
        },
        "id": "MsDC3cKSnFLx",
        "outputId": "aacef65d-a542-4c4b-a455-a11c9c4fd025"
      },
      "execution_count": 6,
      "outputs": [
        {
          "output_type": "execute_result",
          "data": {
            "text/plain": [
              "array([17, 16,  7, 20,  8])"
            ]
          },
          "metadata": {},
          "execution_count": 6
        }
      ]
    },
    {
      "cell_type": "markdown",
      "source": [
        "Look at length of x_test"
      ],
      "metadata": {
        "id": "qwowAI4znPzo"
      }
    },
    {
      "cell_type": "code",
      "source": [
        "len(x_test)"
      ],
      "metadata": {
        "colab": {
          "base_uri": "https://localhost:8080/"
        },
        "id": "Gx1P-6DfnWeY",
        "outputId": "f22c299a-c1a4-40a0-ceaa-fc42fc916d34"
      },
      "execution_count": 7,
      "outputs": [
        {
          "output_type": "execute_result",
          "data": {
            "text/plain": [
              "5"
            ]
          },
          "metadata": {},
          "execution_count": 7
        }
      ]
    },
    {
      "cell_type": "markdown",
      "source": [
        "**Y Values**"
      ],
      "metadata": {
        "id": "OOumsNPIno5f"
      }
    },
    {
      "cell_type": "markdown",
      "source": [
        "Choose y_train values (Ramdomly)"
      ],
      "metadata": {
        "id": "ja004ohVmt7w"
      }
    },
    {
      "cell_type": "code",
      "source": [
        "y_train"
      ],
      "metadata": {
        "colab": {
          "base_uri": "https://localhost:8080/"
        },
        "id": "vxFeAqBZj5Jz",
        "outputId": "bf60a32d-f55d-47f9-fe82-ea574c7e2d5a"
      },
      "execution_count": 8,
      "outputs": [
        {
          "output_type": "execute_result",
          "data": {
            "text/plain": [
              "array([1, 1, 1, 0, 0, 0, 0, 1, 0, 0, 1, 1, 1, 1, 0])"
            ]
          },
          "metadata": {},
          "execution_count": 8
        }
      ]
    },
    {
      "cell_type": "markdown",
      "source": [
        "Look at length of y_train"
      ],
      "metadata": {
        "id": "aTFjCjovm2Hw"
      }
    },
    {
      "cell_type": "code",
      "source": [
        "len(y_train)"
      ],
      "metadata": {
        "colab": {
          "base_uri": "https://localhost:8080/"
        },
        "id": "RUUHIS4DmlMS",
        "outputId": "cb32741e-b96e-46bf-9de0-b4d07bc472bb"
      },
      "execution_count": 9,
      "outputs": [
        {
          "output_type": "execute_result",
          "data": {
            "text/plain": [
              "15"
            ]
          },
          "metadata": {},
          "execution_count": 9
        }
      ]
    },
    {
      "cell_type": "markdown",
      "source": [
        "Choose y_test values (Ramdomly)"
      ],
      "metadata": {
        "id": "AvlPwui1oDn3"
      }
    },
    {
      "cell_type": "code",
      "source": [
        "y_test"
      ],
      "metadata": {
        "colab": {
          "base_uri": "https://localhost:8080/"
        },
        "id": "mTHLYgm9oHTR",
        "outputId": "3049c464-0a7e-4141-b604-78f0dbc99a8f"
      },
      "execution_count": 10,
      "outputs": [
        {
          "output_type": "execute_result",
          "data": {
            "text/plain": [
              "array([1, 0, 0, 1, 0])"
            ]
          },
          "metadata": {},
          "execution_count": 10
        }
      ]
    },
    {
      "cell_type": "markdown",
      "source": [
        "Look at length of y_test"
      ],
      "metadata": {
        "id": "LW-el68UoPbQ"
      }
    },
    {
      "cell_type": "code",
      "source": [
        "len(x_test)"
      ],
      "metadata": {
        "colab": {
          "base_uri": "https://localhost:8080/"
        },
        "id": "5fQfHXCkoJJg",
        "outputId": "b9b38ddd-ae81-4541-cc06-9b2ba158d96e"
      },
      "execution_count": 11,
      "outputs": [
        {
          "output_type": "execute_result",
          "data": {
            "text/plain": [
              "5"
            ]
          },
          "metadata": {},
          "execution_count": 11
        }
      ]
    }
  ]
}