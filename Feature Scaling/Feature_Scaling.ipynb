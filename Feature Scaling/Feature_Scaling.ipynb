{
  "nbformat": 4,
  "nbformat_minor": 0,
  "metadata": {
    "colab": {
      "provenance": []
    },
    "kernelspec": {
      "name": "python3",
      "display_name": "Python 3"
    },
    "language_info": {
      "name": "python"
    }
  },
  "cells": [
    {
      "cell_type": "markdown",
      "source": [
        "# Feature Scaling in Machine Learning"
      ],
      "metadata": {
        "id": "Miz1DJjgcfw_"
      }
    },
    {
      "cell_type": "code",
      "source": [
        "# Import numpy library\n",
        "import numpy as np"
      ],
      "metadata": {
        "id": "3NOhNZTsUYk8"
      },
      "execution_count": 14,
      "outputs": []
    },
    {
      "cell_type": "code",
      "source": [
        "data = np.array([[26, 50000],\n",
        "                [29, 70000],\n",
        "                [34, 55000],\n",
        "                [31, 41000]])  # column name is age ad salarry"
      ],
      "metadata": {
        "id": "9jyC8K79Uc-0"
      },
      "execution_count": 12,
      "outputs": []
    },
    {
      "cell_type": "markdown",
      "source": [
        "# Normalization"
      ],
      "metadata": {
        "id": "gjboVl_EVcoj"
      }
    },
    {
      "cell_type": "code",
      "source": [
        "# import MinMaxScaler in sklearn.preprocessing class\n",
        "from sklearn.preprocessing import MinMaxScaler\n",
        "\n",
        "#Create object\n",
        "scaler = MinMaxScaler()\n",
        "scaled_data = scaler.fit_transform(data) #across scaler object call the .fit_transform() method\n",
        "scaled_data"
      ],
      "metadata": {
        "colab": {
          "base_uri": "https://localhost:8080/"
        },
        "id": "nNTXah7jUxdC",
        "outputId": "8a44a240-59de-4d22-bae9-a8ed4db1c9c7"
      },
      "execution_count": 13,
      "outputs": [
        {
          "output_type": "execute_result",
          "data": {
            "text/plain": [
              "array([[0.        , 0.31034483],\n",
              "       [0.375     , 1.        ],\n",
              "       [1.        , 0.48275862],\n",
              "       [0.625     , 0.        ]])"
            ]
          },
          "metadata": {},
          "execution_count": 13
        }
      ]
    },
    {
      "cell_type": "markdown",
      "source": [
        "### * Value between 0 to 1"
      ],
      "metadata": {
        "id": "K89_tBBEXgyM"
      }
    },
    {
      "cell_type": "markdown",
      "source": [
        "# Standardization"
      ],
      "metadata": {
        "id": "xaPpmxgAV7Uk"
      }
    },
    {
      "cell_type": "code",
      "source": [
        "# import StandardScaler in sklearn.preprocessing class\n",
        "from sklearn.preprocessing import StandardScaler\n",
        "\n",
        "#Create object\n",
        "scaler = StandardScaler()\n",
        "scaled_data = scaler.fit_transform(data) #across scaler object call the .fit_transform() method\n",
        "scaled_data"
      ],
      "metadata": {
        "colab": {
          "base_uri": "https://localhost:8080/"
        },
        "id": "6YalyU6qWE_C",
        "outputId": "09f9fe4a-2378-420c-a999-9af5de080990"
      },
      "execution_count": 10,
      "outputs": [
        {
          "output_type": "execute_result",
          "data": {
            "text/plain": [
              "array([[-1.37198868, -0.3805212 ],\n",
              "       [-0.34299717,  1.52208478],\n",
              "       [ 1.37198868,  0.0951303 ],\n",
              "       [ 0.34299717, -1.23669388]])"
            ]
          },
          "metadata": {},
          "execution_count": 10
        }
      ]
    },
    {
      "cell_type": "markdown",
      "source": [
        "### * Value in distribution"
      ],
      "metadata": {
        "id": "1X3HErPeXuEu"
      }
    }
  ]
}